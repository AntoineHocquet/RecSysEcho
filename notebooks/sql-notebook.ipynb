{
 "cells": [
  {
   "cell_type": "code",
   "execution_count": 1,
   "id": "09e4662d",
   "metadata": {},
   "outputs": [],
   "source": [
    "import sqlite3\n",
    "import pandas as pd\n",
    "import os\n",
    "\n",
    "os.chdir(\"..\")"
   ]
  },
  {
   "cell_type": "code",
   "execution_count": 2,
   "id": "d3cadfec",
   "metadata": {},
   "outputs": [],
   "source": [
    "def list_tables(conn):\n",
    "    query = \"SELECT name FROM sqlite_master WHERE type='table';\"\n",
    "    tables = pd.read_sql_query(query, conn)\n",
    "    print(\"\\n📋 Tables in database:\")\n",
    "    print(tables)\n",
    "\n",
    "def show_schema(conn, table):\n",
    "    query = f\"PRAGMA table_info({table});\"\n",
    "    schema = pd.read_sql_query(query, conn)\n",
    "    print(f\"\\n🔍 Schema for table '{table}':\")\n",
    "    print(schema)\n",
    "\n",
    "def count_rows(conn, table):\n",
    "    query = f\"SELECT COUNT(*) as row_count FROM {table};\"\n",
    "    result = pd.read_sql_query(query, conn)\n",
    "    print(f\"\\n🔢 Row count for '{table}': {result.iloc[0]['row_count']}\")\n",
    "\n",
    "def preview_data(conn, table, limit=5):\n",
    "    query = f\"SELECT * FROM {table} LIMIT {limit};\"\n",
    "    df = pd.read_sql_query(query, conn)\n",
    "    print(f\"\\n👀 Preview of '{table}':\")\n",
    "    print(df)"
   ]
  },
  {
   "cell_type": "code",
   "execution_count": null,
   "id": "cb019ff7",
   "metadata": {},
   "outputs": [
    {
     "name": "stdout",
     "output_type": "stream",
     "text": [
      "\n",
      "📋 Tables in database:\n",
      "    name\n",
      "0  songs\n"
     ]
    }
   ],
   "source": [
    "DB_PATH = \"data/raw/track_metadata.db\"\n",
    "conn = sqlite3.connect(DB_PATH)\n",
    "# List tables\n",
    "list_tables(conn)\n",
    "conn.close()"
   ]
  },
  {
   "cell_type": "code",
   "execution_count": 4,
   "id": "61b0d78a",
   "metadata": {},
   "outputs": [
    {
     "name": "stdout",
     "output_type": "stream",
     "text": [
      "\n",
      "🔍 Schema for table 'songs':\n",
      "    cid                name  type  notnull dflt_value  pk\n",
      "0     0            track_id  TEXT        0       None   1\n",
      "1     1               title  TEXT        0       None   0\n",
      "2     2             song_id  TEXT        0       None   0\n",
      "3     3             release  TEXT        0       None   0\n",
      "4     4           artist_id  TEXT        0       None   0\n",
      "5     5         artist_mbid  TEXT        0       None   0\n",
      "6     6         artist_name  TEXT        0       None   0\n",
      "7     7            duration  REAL        0       None   0\n",
      "8     8  artist_familiarity  REAL        0       None   0\n",
      "9     9   artist_hotttnesss  REAL        0       None   0\n",
      "10   10                year   INT        0       None   0\n",
      "11   11    track_7digitalid   INT        0       None   0\n",
      "12   12            shs_perf   INT        0       None   0\n",
      "13   13            shs_work   INT        0       None   0\n",
      "\n",
      "🔢 Row count for 'songs': 1000000\n",
      "\n",
      "👀 Preview of 'songs':\n",
      "             track_id              title             song_id  \\\n",
      "0  TRMMMYQ128F932D901       Silent Night  SOQMMHC12AB0180CB8   \n",
      "1  TRMMMKD128F425225D        Tanssi vaan  SOVFVAK12A8C1350D9   \n",
      "2  TRMMMRX128F93187D9  No One Could Ever  SOGTUKN12AB017F4F1   \n",
      "3  TRMMMCH128F425532C      Si Vos Querés  SOBNYVR12A8C13558C   \n",
      "4  TRMMMWA128F426B589   Tangle Of Aspens  SOHSBXH12A8C13B0DF   \n",
      "\n",
      "                                release           artist_id  \\\n",
      "0                 Monster Ballads X-Mas  ARYZTJS1187B98C555   \n",
      "1                           Karkuteillä  ARMVN3U1187FB3A1EB   \n",
      "2                                Butter  ARGEKB01187FB50750   \n",
      "3                               De Culo  ARNWYLR1187B9B2F9C   \n",
      "4  Rene Ablaze Presents Winter Sessions  AREQDTE1269FB37231   \n",
      "\n",
      "                            artist_mbid       artist_name   duration  \\\n",
      "0  357ff05d-848a-44cf-b608-cb34b5701ae5  Faster Pussy cat  252.05506   \n",
      "1  8d7ef530-a6fd-4f8f-b2e2-74aec765e0f9  Karkkiautomaatti  156.55138   \n",
      "2  3d403d44-36ce-465c-ad43-ae877e65adc4    Hudson Mohawke  138.97098   \n",
      "3  12be7648-7094-495f-90e6-df4189d68615       Yerba Brava  145.05751   \n",
      "4                                              Der Mystic  514.29832   \n",
      "\n",
      "   artist_familiarity  artist_hotttnesss  year  track_7digitalid  shs_perf  \\\n",
      "0            0.649822           0.394032  2003           7032331        -1   \n",
      "1            0.439604           0.356992  1995           1514808        -1   \n",
      "2            0.643681           0.437504  2006           6945353        -1   \n",
      "3            0.448501           0.372349  2003           2168257        -1   \n",
      "4            0.000000           0.000000     0           2264873        -1   \n",
      "\n",
      "   shs_work  \n",
      "0         0  \n",
      "1         0  \n",
      "2         0  \n",
      "3         0  \n",
      "4         0  \n",
      "\n",
      "🔍 Schema for table 'artist_alias':\n",
      "Empty DataFrame\n",
      "Columns: [cid, name, type, notnull, dflt_value, pk]\n",
      "Index: []\n",
      "\n",
      "⚠️ Skipped table 'artist_alias': Execution failed on sql 'SELECT COUNT(*) as row_count FROM artist_alias;': no such table: artist_alias\n",
      "\n",
      "🔍 Schema for table 'artist_terms':\n",
      "Empty DataFrame\n",
      "Columns: [cid, name, type, notnull, dflt_value, pk]\n",
      "Index: []\n",
      "\n",
      "⚠️ Skipped table 'artist_terms': Execution failed on sql 'SELECT COUNT(*) as row_count FROM artist_terms;': no such table: artist_terms\n"
     ]
    }
   ],
   "source": [
    "conn = sqlite3.connect(DB_PATH)\n",
    "\n",
    "# Example exploration on known tables (e.g., 'songs')\n",
    "for table in [\"songs\", \"artist_alias\", \"artist_terms\"]:\n",
    "    try:\n",
    "        show_schema(conn, table)\n",
    "        count_rows(conn, table)\n",
    "        preview_data(conn, table)\n",
    "    except Exception as e:\n",
    "        print(f\"\\n⚠️ Skipped table '{table}': {e}\")\n",
    "\n",
    "conn.close()"
   ]
  },
  {
   "cell_type": "code",
   "execution_count": null,
   "id": "fea848c9",
   "metadata": {},
   "outputs": [],
   "source": []
  }
 ],
 "metadata": {
  "kernelspec": {
   "display_name": ".venv",
   "language": "python",
   "name": "python3"
  },
  "language_info": {
   "codemirror_mode": {
    "name": "ipython",
    "version": 3
   },
   "file_extension": ".py",
   "mimetype": "text/x-python",
   "name": "python",
   "nbconvert_exporter": "python",
   "pygments_lexer": "ipython3",
   "version": "3.12.3"
  }
 },
 "nbformat": 4,
 "nbformat_minor": 5
}
